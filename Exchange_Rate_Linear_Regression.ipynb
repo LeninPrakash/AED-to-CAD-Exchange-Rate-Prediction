{
 "cells": [
  {
   "cell_type": "code",
   "execution_count": 1,
   "id": "6d6488ff",
   "metadata": {},
   "outputs": [],
   "source": [
    "import pandas as pd\n",
    "import numpy as np\n",
    "import matplotlib.pyplot as plt\n",
    "import seaborn as sns\n",
    "from sklearn.preprocessing import StandardScaler\n",
    "from sklearn.model_selection import train_test_split\n",
    "from sklearn.linear_model import LinearRegression\n",
    "from sklearn.metrics import mean_absolute_error"
   ]
  },
  {
   "cell_type": "code",
   "execution_count": 2,
   "id": "5e5efe46",
   "metadata": {},
   "outputs": [],
   "source": [
    "a = pd.read_excel('E:\\Data Science\\exchange rate\\Exchange rate.xlsx')#to read column 2"
   ]
  },
  {
   "cell_type": "code",
   "execution_count": 3,
   "id": "400ec2fc",
   "metadata": {},
   "outputs": [
    {
     "name": "stdout",
     "output_type": "stream",
     "text": [
      "             Price    Open    High     Low  Volume  Change\n",
      "Date                                                      \n",
      "2023-05-01  2.7452  2.7078  2.7467  2.6924     NaN  0.0133\n",
      "2023-04-01  2.7090  2.7169  2.7608  2.6863     NaN -0.0029\n",
      "2023-03-01  2.7169  2.6925  2.7192  2.6493     NaN  0.0097\n",
      "2023-02-01  2.6908  2.7607  2.7697  2.6876     NaN -0.0251\n",
      "2023-01-01  2.7600  2.7102  2.7622  2.6835     NaN  0.0187\n"
     ]
    }
   ],
   "source": [
    "\n",
    "# Convert the 'Date' column to datetime format (if it's not already)\n",
    "a['Date'] = pd.to_datetime(a['Date'])\n",
    "\n",
    "# Set 'Date' as the index\n",
    "a.set_index('Date', inplace=True)\n",
    "\n",
    "# Display the DataFrame with 'Date' as the index\n",
    "print(a.head(5))\n"
   ]
  },
  {
   "cell_type": "code",
   "execution_count": 4,
   "id": "8222e572",
   "metadata": {},
   "outputs": [
    {
     "data": {
      "text/html": [
       "<div>\n",
       "<style scoped>\n",
       "    .dataframe tbody tr th:only-of-type {\n",
       "        vertical-align: middle;\n",
       "    }\n",
       "\n",
       "    .dataframe tbody tr th {\n",
       "        vertical-align: top;\n",
       "    }\n",
       "\n",
       "    .dataframe thead th {\n",
       "        text-align: right;\n",
       "    }\n",
       "</style>\n",
       "<table border=\"1\" class=\"dataframe\">\n",
       "  <thead>\n",
       "    <tr style=\"text-align: right;\">\n",
       "      <th></th>\n",
       "      <th>Price</th>\n",
       "      <th>Open</th>\n",
       "      <th>High</th>\n",
       "      <th>Low</th>\n",
       "      <th>Change</th>\n",
       "    </tr>\n",
       "    <tr>\n",
       "      <th>Date</th>\n",
       "      <th></th>\n",
       "      <th></th>\n",
       "      <th></th>\n",
       "      <th></th>\n",
       "      <th></th>\n",
       "    </tr>\n",
       "  </thead>\n",
       "  <tbody>\n",
       "    <tr>\n",
       "      <th>2023-05-01</th>\n",
       "      <td>2.7452</td>\n",
       "      <td>2.7078</td>\n",
       "      <td>2.7467</td>\n",
       "      <td>2.6924</td>\n",
       "      <td>0.0133</td>\n",
       "    </tr>\n",
       "    <tr>\n",
       "      <th>2023-04-01</th>\n",
       "      <td>2.7090</td>\n",
       "      <td>2.7169</td>\n",
       "      <td>2.7608</td>\n",
       "      <td>2.6863</td>\n",
       "      <td>-0.0029</td>\n",
       "    </tr>\n",
       "    <tr>\n",
       "      <th>2023-03-01</th>\n",
       "      <td>2.7169</td>\n",
       "      <td>2.6925</td>\n",
       "      <td>2.7192</td>\n",
       "      <td>2.6493</td>\n",
       "      <td>0.0097</td>\n",
       "    </tr>\n",
       "    <tr>\n",
       "      <th>2023-02-01</th>\n",
       "      <td>2.6908</td>\n",
       "      <td>2.7607</td>\n",
       "      <td>2.7697</td>\n",
       "      <td>2.6876</td>\n",
       "      <td>-0.0251</td>\n",
       "    </tr>\n",
       "    <tr>\n",
       "      <th>2023-01-01</th>\n",
       "      <td>2.7600</td>\n",
       "      <td>2.7102</td>\n",
       "      <td>2.7622</td>\n",
       "      <td>2.6835</td>\n",
       "      <td>0.0187</td>\n",
       "    </tr>\n",
       "  </tbody>\n",
       "</table>\n",
       "</div>"
      ],
      "text/plain": [
       "             Price    Open    High     Low  Change\n",
       "Date                                              \n",
       "2023-05-01  2.7452  2.7078  2.7467  2.6924  0.0133\n",
       "2023-04-01  2.7090  2.7169  2.7608  2.6863 -0.0029\n",
       "2023-03-01  2.7169  2.6925  2.7192  2.6493  0.0097\n",
       "2023-02-01  2.6908  2.7607  2.7697  2.6876 -0.0251\n",
       "2023-01-01  2.7600  2.7102  2.7622  2.6835  0.0187"
      ]
     },
     "execution_count": 4,
     "metadata": {},
     "output_type": "execute_result"
    }
   ],
   "source": [
    "b = a.drop(columns = [\"Volume\"])\n",
    "b.head(5)"
   ]
  },
  {
   "cell_type": "code",
   "execution_count": 5,
   "id": "1a209923",
   "metadata": {},
   "outputs": [
    {
     "data": {
      "text/plain": [
       "Price     0\n",
       "Open      0\n",
       "High      0\n",
       "Low       0\n",
       "Change    0\n",
       "dtype: int64"
      ]
     },
     "execution_count": 5,
     "metadata": {},
     "output_type": "execute_result"
    }
   ],
   "source": [
    "b.isnull().sum()"
   ]
  },
  {
   "cell_type": "code",
   "execution_count": 6,
   "id": "f17be2f0",
   "metadata": {},
   "outputs": [
    {
     "data": {
      "text/html": [
       "<div>\n",
       "<style scoped>\n",
       "    .dataframe tbody tr th:only-of-type {\n",
       "        vertical-align: middle;\n",
       "    }\n",
       "\n",
       "    .dataframe tbody tr th {\n",
       "        vertical-align: top;\n",
       "    }\n",
       "\n",
       "    .dataframe thead th {\n",
       "        text-align: right;\n",
       "    }\n",
       "</style>\n",
       "<table border=\"1\" class=\"dataframe\">\n",
       "  <thead>\n",
       "    <tr style=\"text-align: right;\">\n",
       "      <th></th>\n",
       "      <th>Price</th>\n",
       "      <th>Open</th>\n",
       "      <th>High</th>\n",
       "      <th>Low</th>\n",
       "      <th>Change</th>\n",
       "    </tr>\n",
       "  </thead>\n",
       "  <tbody>\n",
       "    <tr>\n",
       "      <th>count</th>\n",
       "      <td>317.000000</td>\n",
       "      <td>317.000000</td>\n",
       "      <td>317.000000</td>\n",
       "      <td>317.000000</td>\n",
       "      <td>317.000000</td>\n",
       "    </tr>\n",
       "    <tr>\n",
       "      <th>mean</th>\n",
       "      <td>2.960986</td>\n",
       "      <td>2.962040</td>\n",
       "      <td>3.004368</td>\n",
       "      <td>2.918493</td>\n",
       "      <td>0.000373</td>\n",
       "    </tr>\n",
       "    <tr>\n",
       "      <th>std</th>\n",
       "      <td>0.424433</td>\n",
       "      <td>0.424601</td>\n",
       "      <td>0.449368</td>\n",
       "      <td>0.400672</td>\n",
       "      <td>0.024313</td>\n",
       "    </tr>\n",
       "    <tr>\n",
       "      <th>min</th>\n",
       "      <td>2.293400</td>\n",
       "      <td>2.292600</td>\n",
       "      <td>2.293400</td>\n",
       "      <td>2.292600</td>\n",
       "      <td>-0.123100</td>\n",
       "    </tr>\n",
       "    <tr>\n",
       "      <th>25%</th>\n",
       "      <td>2.664200</td>\n",
       "      <td>2.662700</td>\n",
       "      <td>2.681000</td>\n",
       "      <td>2.653300</td>\n",
       "      <td>-0.013300</td>\n",
       "    </tr>\n",
       "    <tr>\n",
       "      <th>50%</th>\n",
       "      <td>2.849300</td>\n",
       "      <td>2.853400</td>\n",
       "      <td>2.906900</td>\n",
       "      <td>2.811100</td>\n",
       "      <td>0.000200</td>\n",
       "    </tr>\n",
       "    <tr>\n",
       "      <th>75%</th>\n",
       "      <td>3.323600</td>\n",
       "      <td>3.324000</td>\n",
       "      <td>3.383600</td>\n",
       "      <td>3.256000</td>\n",
       "      <td>0.015600</td>\n",
       "    </tr>\n",
       "    <tr>\n",
       "      <th>max</th>\n",
       "      <td>3.892600</td>\n",
       "      <td>3.891300</td>\n",
       "      <td>4.053300</td>\n",
       "      <td>3.777500</td>\n",
       "      <td>0.094200</td>\n",
       "    </tr>\n",
       "  </tbody>\n",
       "</table>\n",
       "</div>"
      ],
      "text/plain": [
       "            Price        Open        High         Low      Change\n",
       "count  317.000000  317.000000  317.000000  317.000000  317.000000\n",
       "mean     2.960986    2.962040    3.004368    2.918493    0.000373\n",
       "std      0.424433    0.424601    0.449368    0.400672    0.024313\n",
       "min      2.293400    2.292600    2.293400    2.292600   -0.123100\n",
       "25%      2.664200    2.662700    2.681000    2.653300   -0.013300\n",
       "50%      2.849300    2.853400    2.906900    2.811100    0.000200\n",
       "75%      3.323600    3.324000    3.383600    3.256000    0.015600\n",
       "max      3.892600    3.891300    4.053300    3.777500    0.094200"
      ]
     },
     "execution_count": 6,
     "metadata": {},
     "output_type": "execute_result"
    }
   ],
   "source": [
    "b.describe()"
   ]
  },
  {
   "cell_type": "code",
   "execution_count": 7,
   "id": "633c8ee7",
   "metadata": {},
   "outputs": [
    {
     "name": "stdout",
     "output_type": "stream",
     "text": [
      "<class 'pandas.core.frame.DataFrame'>\n",
      "DatetimeIndex: 317 entries, 2023-05-01 to 1997-01-01\n",
      "Data columns (total 5 columns):\n",
      " #   Column  Non-Null Count  Dtype  \n",
      "---  ------  --------------  -----  \n",
      " 0   Price   317 non-null    float64\n",
      " 1   Open    317 non-null    float64\n",
      " 2   High    317 non-null    float64\n",
      " 3   Low     317 non-null    float64\n",
      " 4   Change  317 non-null    float64\n",
      "dtypes: float64(5)\n",
      "memory usage: 14.9 KB\n"
     ]
    }
   ],
   "source": [
    "b.info()"
   ]
  },
  {
   "cell_type": "code",
   "execution_count": 8,
   "id": "ba02f717",
   "metadata": {},
   "outputs": [
    {
     "name": "stdout",
     "output_type": "stream",
     "text": [
      "             Price    Open    High     Low  Change\n",
      "Date                                              \n",
      "2023-05-01  2.7452  2.7078  2.7467  2.6924  0.0133\n",
      "2023-04-01  2.7090  2.7169  2.7608  2.6863 -0.0029\n",
      "2023-03-01  2.7169  2.6925  2.7192  2.6493  0.0097\n",
      "2023-02-01  2.6908  2.7607  2.7697  2.6876 -0.0251\n",
      "2023-01-01  2.7600  2.7102  2.7622  2.6835  0.0187\n"
     ]
    }
   ],
   "source": [
    "c = b.drop_duplicates().dropna().replace('', np.nan).dropna()\n",
    "print(c.head(5))\n",
    "df_cleaned = c.copy()"
   ]
  },
  {
   "cell_type": "code",
   "execution_count": 9,
   "id": "b3ee86a1",
   "metadata": {},
   "outputs": [
    {
     "name": "stdout",
     "output_type": "stream",
     "text": [
      "             Price    Open    High     Low  Change\n",
      "Date                                              \n",
      "2023-05-01  2.7452  2.7078  2.7467  2.6924  0.0133\n",
      "2023-04-01  2.7090  2.7169  2.7608  2.6863 -0.0029\n",
      "2023-03-01  2.7169  2.6925  2.7192  2.6493  0.0097\n",
      "2023-02-01  2.6908  2.7607  2.7697  2.6876 -0.0251\n",
      "2023-01-01  2.7600  2.7102  2.7622  2.6835  0.0187\n"
     ]
    }
   ],
   "source": [
    "print(df_cleaned.head(5))"
   ]
  },
  {
   "cell_type": "code",
   "execution_count": 10,
   "id": "f2552935",
   "metadata": {},
   "outputs": [
    {
     "name": "stdout",
     "output_type": "stream",
     "text": [
      "        Price      Open      High       Low    Change\n",
      "0   -0.509214 -0.599720 -0.574308 -0.565178  0.532523\n",
      "1   -0.594639 -0.578254 -0.542881 -0.580427 -0.134840\n",
      "2   -0.575997 -0.635811 -0.635602 -0.672918  0.384220\n",
      "3   -0.637588 -0.474935 -0.523044 -0.577177 -1.049374\n",
      "4   -0.474289 -0.594059 -0.539761 -0.587426  0.754978\n",
      "..        ...       ...       ...       ...       ...\n",
      "312 -0.690447 -0.694311 -0.748828 -0.626922  0.627273\n",
      "313 -0.787435 -0.792440 -0.840435 -0.730912 -0.431446\n",
      "314 -0.724429 -0.728279 -0.780924 -0.662919 -0.472641\n",
      "315 -0.653870 -0.660579 -0.714281 -0.591176 -0.633302\n",
      "316 -0.557118 -0.563157 -0.622897 -0.487936  0.693185\n",
      "\n",
      "[317 rows x 5 columns]\n"
     ]
    }
   ],
   "source": [
    "\n",
    "\n",
    "\n",
    "df = pd.DataFrame(df_cleaned)\n",
    "\n",
    "# Initialize the StandardScaler\n",
    "scaler = StandardScaler()\n",
    "\n",
    "# Normalize all columns in the DataFrame\n",
    "normalized_data = scaler.fit_transform(df)\n",
    "\n",
    "# Create a new DataFrame with the normalized values\n",
    "normalized_df = pd.DataFrame(normalized_data, columns=df.columns)\n",
    "\n",
    "# Display the normalized DataFrame\n",
    "print(normalized_df)\n"
   ]
  },
  {
   "cell_type": "code",
   "execution_count": 11,
   "id": "22be2a93",
   "metadata": {},
   "outputs": [],
   "source": [
    "X = normalized_df.drop('Change', axis=1)  # Features (all columns except the target)\n",
    "y = normalized_df['Change']  # Target variable\n"
   ]
  },
  {
   "cell_type": "code",
   "execution_count": 12,
   "id": "d78bdd71",
   "metadata": {},
   "outputs": [],
   "source": [
    "\n",
    "X_train, X_test, y_train, y_test = train_test_split(X, y, test_size=0.2, random_state=15)\n"
   ]
  },
  {
   "cell_type": "code",
   "execution_count": 13,
   "id": "a2764144",
   "metadata": {},
   "outputs": [],
   "source": [
    "\n",
    "model = LinearRegression()\n"
   ]
  },
  {
   "cell_type": "code",
   "execution_count": 14,
   "id": "98ab6d6b",
   "metadata": {},
   "outputs": [
    {
     "data": {
      "text/html": [
       "<style>#sk-container-id-1 {color: black;background-color: white;}#sk-container-id-1 pre{padding: 0;}#sk-container-id-1 div.sk-toggleable {background-color: white;}#sk-container-id-1 label.sk-toggleable__label {cursor: pointer;display: block;width: 100%;margin-bottom: 0;padding: 0.3em;box-sizing: border-box;text-align: center;}#sk-container-id-1 label.sk-toggleable__label-arrow:before {content: \"▸\";float: left;margin-right: 0.25em;color: #696969;}#sk-container-id-1 label.sk-toggleable__label-arrow:hover:before {color: black;}#sk-container-id-1 div.sk-estimator:hover label.sk-toggleable__label-arrow:before {color: black;}#sk-container-id-1 div.sk-toggleable__content {max-height: 0;max-width: 0;overflow: hidden;text-align: left;background-color: #f0f8ff;}#sk-container-id-1 div.sk-toggleable__content pre {margin: 0.2em;color: black;border-radius: 0.25em;background-color: #f0f8ff;}#sk-container-id-1 input.sk-toggleable__control:checked~div.sk-toggleable__content {max-height: 200px;max-width: 100%;overflow: auto;}#sk-container-id-1 input.sk-toggleable__control:checked~label.sk-toggleable__label-arrow:before {content: \"▾\";}#sk-container-id-1 div.sk-estimator input.sk-toggleable__control:checked~label.sk-toggleable__label {background-color: #d4ebff;}#sk-container-id-1 div.sk-label input.sk-toggleable__control:checked~label.sk-toggleable__label {background-color: #d4ebff;}#sk-container-id-1 input.sk-hidden--visually {border: 0;clip: rect(1px 1px 1px 1px);clip: rect(1px, 1px, 1px, 1px);height: 1px;margin: -1px;overflow: hidden;padding: 0;position: absolute;width: 1px;}#sk-container-id-1 div.sk-estimator {font-family: monospace;background-color: #f0f8ff;border: 1px dotted black;border-radius: 0.25em;box-sizing: border-box;margin-bottom: 0.5em;}#sk-container-id-1 div.sk-estimator:hover {background-color: #d4ebff;}#sk-container-id-1 div.sk-parallel-item::after {content: \"\";width: 100%;border-bottom: 1px solid gray;flex-grow: 1;}#sk-container-id-1 div.sk-label:hover label.sk-toggleable__label {background-color: #d4ebff;}#sk-container-id-1 div.sk-serial::before {content: \"\";position: absolute;border-left: 1px solid gray;box-sizing: border-box;top: 0;bottom: 0;left: 50%;z-index: 0;}#sk-container-id-1 div.sk-serial {display: flex;flex-direction: column;align-items: center;background-color: white;padding-right: 0.2em;padding-left: 0.2em;position: relative;}#sk-container-id-1 div.sk-item {position: relative;z-index: 1;}#sk-container-id-1 div.sk-parallel {display: flex;align-items: stretch;justify-content: center;background-color: white;position: relative;}#sk-container-id-1 div.sk-item::before, #sk-container-id-1 div.sk-parallel-item::before {content: \"\";position: absolute;border-left: 1px solid gray;box-sizing: border-box;top: 0;bottom: 0;left: 50%;z-index: -1;}#sk-container-id-1 div.sk-parallel-item {display: flex;flex-direction: column;z-index: 1;position: relative;background-color: white;}#sk-container-id-1 div.sk-parallel-item:first-child::after {align-self: flex-end;width: 50%;}#sk-container-id-1 div.sk-parallel-item:last-child::after {align-self: flex-start;width: 50%;}#sk-container-id-1 div.sk-parallel-item:only-child::after {width: 0;}#sk-container-id-1 div.sk-dashed-wrapped {border: 1px dashed gray;margin: 0 0.4em 0.5em 0.4em;box-sizing: border-box;padding-bottom: 0.4em;background-color: white;}#sk-container-id-1 div.sk-label label {font-family: monospace;font-weight: bold;display: inline-block;line-height: 1.2em;}#sk-container-id-1 div.sk-label-container {text-align: center;}#sk-container-id-1 div.sk-container {/* jupyter's `normalize.less` sets `[hidden] { display: none; }` but bootstrap.min.css set `[hidden] { display: none !important; }` so we also need the `!important` here to be able to override the default hidden behavior on the sphinx rendered scikit-learn.org. See: https://github.com/scikit-learn/scikit-learn/issues/21755 */display: inline-block !important;position: relative;}#sk-container-id-1 div.sk-text-repr-fallback {display: none;}</style><div id=\"sk-container-id-1\" class=\"sk-top-container\"><div class=\"sk-text-repr-fallback\"><pre>LinearRegression()</pre><b>In a Jupyter environment, please rerun this cell to show the HTML representation or trust the notebook. <br />On GitHub, the HTML representation is unable to render, please try loading this page with nbviewer.org.</b></div><div class=\"sk-container\" hidden><div class=\"sk-item\"><div class=\"sk-estimator sk-toggleable\"><input class=\"sk-toggleable__control sk-hidden--visually\" id=\"sk-estimator-id-1\" type=\"checkbox\" checked><label for=\"sk-estimator-id-1\" class=\"sk-toggleable__label sk-toggleable__label-arrow\">LinearRegression</label><div class=\"sk-toggleable__content\"><pre>LinearRegression()</pre></div></div></div></div></div>"
      ],
      "text/plain": [
       "LinearRegression()"
      ]
     },
     "execution_count": 14,
     "metadata": {},
     "output_type": "execute_result"
    }
   ],
   "source": [
    "model.fit(X_train, y_train)\n"
   ]
  },
  {
   "cell_type": "code",
   "execution_count": 15,
   "id": "e67d7e04",
   "metadata": {},
   "outputs": [],
   "source": [
    "y_pred = model.predict(X_test)\n"
   ]
  },
  {
   "cell_type": "code",
   "execution_count": 16,
   "id": "e1d915ef",
   "metadata": {},
   "outputs": [
    {
     "name": "stdout",
     "output_type": "stream",
     "text": [
      "Mean Absolute Error: 0.20792008988753388\n"
     ]
    }
   ],
   "source": [
    "\n",
    "mae = mean_absolute_error(y_test, y_pred)\n",
    "print(f'Mean Absolute Error: {mae}')\n"
   ]
  },
  {
   "cell_type": "code",
   "execution_count": 17,
   "id": "2bc2af4b",
   "metadata": {},
   "outputs": [
    {
     "data": {
      "image/png": "[encoded data removed]",
      "text/plain": [
       "<Figure size 800x600 with 1 Axes>"
      ]
     },
     "metadata": {},
     "output_type": "display_data"
    }
   ],
   "source": [
    "plt.figure(figsize=(8, 6))\n",
    "plt.scatter(y_test, y_pred, c='b', alpha=0.5)\n",
    "plt.xlabel(\"Actual Values\")\n",
    "plt.ylabel(\"Predicted Values\")\n",
    "plt.title(\"Scatter Plot: Actual vs. Predicted Values\")\n",
    "plt.grid(True)\n",
    "plt.show()"
   ]
  },
  {
   "cell_type": "code",
   "execution_count": 19,
   "id": "fd86739d",
   "metadata": {},
   "outputs": [
    {
     "data": {
      "image/png": "[encoded data removed]",
      "text/plain": [
       "<Figure size 800x600 with 1 Axes>"
      ]
     },
     "metadata": {},
     "output_type": "display_data"
    }
   ],
   "source": [
    "plt.figure(figsize=(8, 6))\n",
    "sns.regplot(x=y_test, y=y_pred, scatter_kws={'color': 'b', 'alpha': 0.5}, line_kws={'color': 'r'})\n",
    "plt.xlabel(\"Actual Values\")\n",
    "plt.ylabel(\"Predicted Values\")\n",
    "plt.title(\"Linear Regression Plot: Actual vs. Predicted Values\")\n",
    "plt.grid(True)\n",
    "plt.show()"
   ]
  },
  {
   "cell_type": "code",
   "execution_count": null,
   "id": "0947e337",
   "metadata": {},
   "outputs": [],
   "source": []
  }
 ],
 "metadata": {
  "kernelspec": {
   "display_name": "Python 3 (ipykernel)",
   "language": "python",
   "name": "python3"
  },
  "language_info": {
   "codemirror_mode": {
    "name": "ipython",
    "version": 3
   },
   "file_extension": ".py",
   "mimetype": "text/x-python",
   "name": "python",
   "nbconvert_exporter": "python",
   "pygments_lexer": "ipython3",
   "version": "3.11.3"
  }
 },
 "nbformat": 4,
 "nbformat_minor": 5
}
