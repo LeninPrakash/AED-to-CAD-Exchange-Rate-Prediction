{
 "cells": [
  {
   "cell_type": "code",
   "execution_count": 1,
   "id": "d05c8bdd",
   "metadata": {},
   "outputs": [],
   "source": [
    "import pandas as pd\n",
    "import numpy as np\n",
    "import matplotlib.pyplot as plt\n",
    "from statsmodels.tsa.seasonal import seasonal_decompose\n",
    "from statsmodels.tsa.arima.model import ARIMA\n",
    "from sklearn.metrics import mean_squared_error\n",
    "from datetime import timedelta\n",
    "from sklearn.preprocessing import MinMaxScaler\n",
    "from tensorflow.keras.models import Sequential\n",
    "from tensorflow.keras.layers import LSTM, Dense\n",
    "from statsmodels.tsa.statespace.sarimax import SARIMAX\n",
    "from statsmodels.graphics.tsaplots import plot_acf, plot_pacf\n"
   ]
  },
  {
   "cell_type": "code",
   "execution_count": 2,
   "id": "be44d5e4",
   "metadata": {},
   "outputs": [],
   "source": [
    "df = pd.read_excel('E:\\Data Science\\exchange rate\\Exchange rate.xlsx')"
   ]
  },
  {
   "cell_type": "code",
   "execution_count": 3,
   "id": "e0745f57",
   "metadata": {},
   "outputs": [
    {
     "name": "stdout",
     "output_type": "stream",
     "text": [
      "        Date   Price    Open    High     Low  Volume  Change\n",
      "0 2023-05-01  2.7452  2.7078  2.7467  2.6924     NaN  0.0133\n",
      "1 2023-04-01  2.7090  2.7169  2.7608  2.6863     NaN -0.0029\n",
      "2 2023-03-01  2.7169  2.6925  2.7192  2.6493     NaN  0.0097\n",
      "3 2023-02-01  2.6908  2.7607  2.7697  2.6876     NaN -0.0251\n",
      "4 2023-01-01  2.7600  2.7102  2.7622  2.6835     NaN  0.0187\n"
     ]
    }
   ],
   "source": [
    "print(df.head())"
   ]
  },
  {
   "cell_type": "code",
   "execution_count": 4,
   "id": "a5e650ec",
   "metadata": {},
   "outputs": [
    {
     "name": "stdout",
     "output_type": "stream",
     "text": [
      "Missing values in the dataset:\n",
      "Date        0\n",
      "Price       0\n",
      "Open        0\n",
      "High        0\n",
      "Low         0\n",
      "Volume    317\n",
      "Change      0\n",
      "dtype: int64\n"
     ]
    }
   ],
   "source": [
    "# Check for missing values and handle them if necessary\n",
    "print(\"Missing values in the dataset:\")\n",
    "print(df.isnull().sum())"
   ]
  },
  {
   "cell_type": "code",
   "execution_count": 5,
   "id": "ca8586af",
   "metadata": {},
   "outputs": [],
   "source": [
    "columns_to_drop = ['Volume','Open','High','Low','Change']\n",
    "\n",
    "# Drop the specified columns\n",
    "df = df.drop(columns=columns_to_drop)"
   ]
  },
  {
   "cell_type": "code",
   "execution_count": null,
   "id": "cab73e85",
   "metadata": {},
   "outputs": [],
   "source": [
    "# Assuming the dataset has a 'Date' column, convert it to a datetime format\n",
    "df['Date'] = pd.to_datetime(df['Date'])"
   ]
  },
  {
   "cell_type": "code",
   "execution_count": null,
   "id": "11d98f3f",
   "metadata": {},
   "outputs": [],
   "source": [
    "# Set 'Date' as the index\n",
    "df.set_index('Date', inplace=True)"
   ]
  },
  {
   "cell_type": "code",
   "execution_count": null,
   "id": "6fd50519",
   "metadata": {},
   "outputs": [],
   "source": [
    "import pandas as pd\n",
    "import matplotlib.pyplot as plt\n",
    "from statsmodels.tsa.seasonal import seasonal_decompose\n",
    "\n",
    "# Assuming you have loaded your time series data into df\n",
    "# ...\n",
    "\n",
    "# Resample the time series data to a daily frequency\n",
    "df_resampled = df.resample('D').mean()\n",
    "\n",
    "# Handle missing values after resampling using linear interpolation\n",
    "df_resampled['Price'] = df_resampled['Price'].interpolate(method='linear')\n",
    "\n",
    "# Decompose the time series into trend, seasonality, and residual components\n",
    "result = seasonal_decompose(df_resampled['Price'], model='additive', period=365)\n",
    "\n",
    "# Visualize the components\n",
    "plt.figure(figsize=(12, 10))\n",
    "\n",
    "# Original time series\n",
    "plt.subplot(4, 1, 1)\n",
    "plt.plot(df_resampled['Price'])\n",
    "plt.title('Original Time Series')\n",
    "\n",
    "# Trend component\n",
    "plt.subplot(4, 1, 2)\n",
    "plt.plot(result.trend)\n",
    "plt.title('Trend Component')\n",
    "\n",
    "# Seasonal component\n",
    "plt.subplot(4, 1, 3)\n",
    "plt.plot(result.seasonal)\n",
    "plt.title('Seasonal Component')\n",
    "\n",
    "# Residual component\n",
    "plt.subplot(4, 1, 4)\n",
    "plt.plot(result.resid)\n",
    "plt.title('Residual Component')\n",
    "\n",
    "plt.tight_layout()\n",
    "plt.show()\n"
   ]
  },
  {
   "cell_type": "code",
   "execution_count": null,
   "id": "403d8dc5",
   "metadata": {},
   "outputs": [],
   "source": [
    "# Split the data into training and testing sets\n",
    "train_size = int(len(df_resampled) * 0.8)\n",
    "train, test = df_resampled[:train_size], df_resampled[train_size:]\n",
    "\n",
    "# Fit an ARIMA model\n",
    "model = ARIMA(train['Price'], order=(1, 1, 1))  # Adjust order as needed\n",
    "fit_model = model.fit()\n",
    "\n",
    "# Forecast future values\n",
    "forecast_steps = len(test)\n",
    "forecast = fit_model.get_forecast(steps=forecast_steps).predicted_mean\n",
    "\n",
    "# Evaluate the model\n",
    "mse = mean_squared_error(test['Price'], forecast)\n",
    "rmse = np.sqrt(mse)\n",
    "print(f'Mean Squared Error: {mse:.2f}')\n",
    "print(f'Root Mean Squared Error: {rmse:.2f}')\n",
    "\n",
    "# Visualize the results\n",
    "plt.figure(figsize=(12, 6))\n",
    "plt.plot(train['Price'], label='Train')\n",
    "plt.plot(test['Price'], label='Test')\n",
    "plt.plot(test.index, forecast, label='Forecast', color='red')\n",
    "plt.title('ARIMA Forecasting')\n",
    "plt.xlabel('Date')\n",
    "plt.ylabel('Price')\n",
    "plt.legend()\n",
    "plt.show()\n"
   ]
  },
  {
   "cell_type": "code",
   "execution_count": null,
   "id": "3691b887",
   "metadata": {},
   "outputs": [],
   "source": [
    "\n",
    "# Extract 'Price' column and normalize values\n",
    "price_data = df_resampled['Price'].values.reshape(-1, 1)\n",
    "scaler = MinMaxScaler()\n",
    "price_data_scaled = scaler.fit_transform(price_data)\n",
    "\n",
    "# Function to create time series sequences\n",
    "def create_sequences(data, seq_length):\n",
    "    X, Y = [], []\n",
    "    for i in range(len(data) - seq_length):\n",
    "        X.append(data[i:(i + seq_length), 0])\n",
    "        Y.append(data[i + seq_length, 0])\n",
    "    return np.array(X), np.array(Y)\n",
    "\n",
    "# Set sequence length\n",
    "sequence_length = 10  # You can adjust this based on your data\n",
    "\n",
    "# Create sequences\n",
    "X, Y = create_sequences(price_data_scaled, sequence_length)\n",
    "\n",
    "# Reshape data for LSTM input (samples, time steps, features)\n",
    "X = np.reshape(X, (X.shape[0], X.shape[1], 1))\n",
    "\n",
    "# Split the data into training and testing sets\n",
    "train_size = int(len(X) * 0.8)\n",
    "X_train, Y_train = X[:train_size], Y[:train_size]\n",
    "X_test, Y_test = X[train_size:], Y[train_size:]\n",
    "\n",
    "# Build the LSTM model\n",
    "model = Sequential()\n",
    "model.add(LSTM(units=50, return_sequences=True, input_shape=(X_train.shape[1], 1)))\n",
    "model.add(LSTM(units=50))\n",
    "model.add(Dense(units=1))\n",
    "model.compile(optimizer='adam', loss='mean_squared_error')\n",
    "\n",
    "# Train the model\n",
    "model.fit(X_train, Y_train, epochs=50, batch_size=32)\n",
    "\n",
    "# Make predictions on the test set\n",
    "predictions = model.predict(X_test)\n",
    "predictions = scaler.inverse_transform(predictions)\n",
    "\n",
    "# Inverse transform the actual values for comparison\n",
    "Y_test = Y_test.reshape(-1, 1)\n",
    "actual_values = scaler.inverse_transform(Y_test)\n",
    "\n",
    "# Visualize the results\n",
    "plt.figure(figsize=(12, 6))\n",
    "plt.plot(actual_values, label='Actual Price')\n",
    "plt.plot(predictions, label='Predicted Price', color='red')\n",
    "plt.title('LSTM Forecasting')\n",
    "plt.xlabel('Time Steps')\n",
    "plt.ylabel('Price')\n",
    "plt.legend()\n",
    "plt.show()\n"
   ]
  },
  {
   "cell_type": "code",
   "execution_count": null,
   "id": "0256ee28",
   "metadata": {},
   "outputs": [],
   "source": [
    "# Resample the time series data to a daily frequency\n",
    "df_resampled = df_resampled.resample('D').mean()\n",
    "\n",
    "# Handle missing values after resampling using linear interpolation\n",
    "df_resampled['Price'] = df_resampled['Price'].interpolate(method='linear')\n",
    "\n",
    "# Visualize the autocorrelation and partial autocorrelation functions\n",
    "plot_acf(df_resampled['Price'], lags=50, title='Autocorrelation Function (ACF)')\n",
    "plot_pacf(df_resampled['Price'], lags=50, title='Partial Autocorrelation Function (PACF)')\n",
    "plt.show()\n",
    "\n",
    "# Based on the ACF and PACF plots, determine the order of the SARIMA model\n",
    "# Adjust the values of p, d, q, P, D, Q, and s accordingly\n",
    "\n",
    "# Fit SARIMA model\n",
    "order = (1, 1, 1)  # (p, d, q) for the non-seasonal part\n",
    "seasonal_order = (1, 1, 1, 365)  # (P, D, Q, s) for the seasonal part\n",
    "\n",
    "sarima_model = SARIMAX(df_resampled['Price'], order=order, seasonal_order=seasonal_order)\n",
    "sarima_results = sarima_model.fit()\n",
    "\n",
    "# Forecast future values\n",
    "forecast_steps = 365  # Adjust as needed\n",
    "forecast = sarima_results.get_forecast(steps=forecast_steps)\n",
    "\n",
    "# Visualize the results\n",
    "plt.figure(figsize=(12, 6))\n",
    "plt.plot(df_resampled['Price'], label='Actual')\n",
    "plt.plot(forecast.predicted_mean, label='Forecast', color='red')\n",
    "plt.fill_between(forecast.index, forecast.conf_int()['lower Price'], forecast.conf_int()['upper Price'], color='pink', alpha=0.3)\n",
    "plt.title('SARIMA Forecasting')\n",
    "plt.xlabel('Date')\n",
    "plt.ylabel('Price')\n",
    "plt.legend()\n",
    "plt.show()\n"
   ]
  },
  {
   "cell_type": "code",
   "execution_count": null,
   "id": "5ea09430",
   "metadata": {},
   "outputs": [],
   "source": []
  }
 ],
 "metadata": {
  "kernelspec": {
   "display_name": "Python 3 (ipykernel)",
   "language": "python",
   "name": "python3"
  },
  "language_info": {
   "codemirror_mode": {
    "name": "ipython",
    "version": 3
   },
   "file_extension": ".py",
   "mimetype": "text/x-python",
   "name": "python",
   "nbconvert_exporter": "python",
   "pygments_lexer": "ipython3",
   "version": "3.11.3"
  }
 },
 "nbformat": 4,
 "nbformat_minor": 5
}
